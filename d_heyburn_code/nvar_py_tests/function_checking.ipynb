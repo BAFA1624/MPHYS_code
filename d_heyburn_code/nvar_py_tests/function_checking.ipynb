{
 "cells": [
  {
   "cell_type": "code",
   "execution_count": 1,
   "id": "initial_id",
   "metadata": {
    "collapsed": true,
    "ExecuteTime": {
     "end_time": "2023-11-21T12:50:42.931630830Z",
     "start_time": "2023-11-21T12:50:42.119816491Z"
    }
   },
   "outputs": [],
   "source": [
    "import os\n",
    "import numpy as np\n",
    "import pandas as pd\n",
    "from NVAR2 import *"
   ]
  },
  {
   "cell_type": "code",
   "execution_count": 3,
   "outputs": [
    {
     "name": "stdout",
     "output_type": "stream",
     "text": [
      "Linear dimension = 4\n",
      "Nonlinear dimension = 10\n",
      "Total feature length = 14\n",
      "[[-0.70817682 -0.22241371]]\n",
      "(4,)\n",
      "(10,)\n",
      "(1, 14)\n",
      "[[-0.70723658 -0.22143116 -0.70817682 -0.22241371  0.50018358  0.15660422\n",
      "   0.50084855  0.15729911  0.04903176  0.15681242  0.04924933  0.50151441\n",
      "   0.15750824  0.04946786]]\n"
     ]
    }
   ],
   "source": [
    "# import the data\n",
    "cwd = os.getcwd()\n",
    "data_dict = os.path.join(os.path.dirname(cwd), \"data\", \"Normalised_Signals\")\n",
    "\n",
    "TRAIN = 10000\n",
    "TEST = 1\n",
    "HORIZON = 1\n",
    "\n",
    "# Importing the data.\n",
    "data_file = os.path.join(data_dict, \"M_NProtocol_17\")\n",
    "signal = pd.read_csv(data_file, header=0, delimiter=\",\", dtype=\"float\").values\n",
    "\n",
    "# Train test split:\n",
    "x_train = signal[0:TRAIN, :]\n",
    "y_train = signal[1:TRAIN + HORIZON, -1].reshape(-1, 1)\n",
    "\n",
    "x_test = signal[TRAIN:TRAIN + TEST, :]\n",
    "y_init = signal[TRAIN-1, -1]\n",
    "y_test = signal[TRAIN + TRAIN:TRAIN + TEST + HORIZON, -1].reshape(-1, 1)\n",
    "\n",
    "# ----- Declare the model -----\n",
    "nvar = NVAR2(delay=2, strides=2, order=2)\n",
    "training_features = nvar.fit(x_train)\n",
    "\n",
    "print(x_test)\n",
    "\n",
    "# Attempt the one-step polynomial transformation:\n",
    "one_feature = nvar.fit_individual(x_test)\n",
    "print(one_feature)"
   ],
   "metadata": {
    "collapsed": false,
    "ExecuteTime": {
     "end_time": "2023-11-21T12:51:46.921437422Z",
     "start_time": "2023-11-21T12:51:46.379977979Z"
    }
   },
   "id": "94ddd87c3dec3c1"
  },
  {
   "cell_type": "code",
   "execution_count": 2,
   "outputs": [],
   "source": [
    "# Attempt one-step prediction\n",
    "\n",
    "y_pred = nvar.predict()"
   ],
   "metadata": {
    "collapsed": false,
    "ExecuteTime": {
     "end_time": "2023-11-21T12:50:43.508976844Z",
     "start_time": "2023-11-21T12:50:43.488625167Z"
    }
   },
   "id": "a46b670d0fce03c5"
  }
 ],
 "metadata": {
  "kernelspec": {
   "display_name": "Python 3",
   "language": "python",
   "name": "python3"
  },
  "language_info": {
   "codemirror_mode": {
    "name": "ipython",
    "version": 2
   },
   "file_extension": ".py",
   "mimetype": "text/x-python",
   "name": "python",
   "nbconvert_exporter": "python",
   "pygments_lexer": "ipython2",
   "version": "2.7.6"
  }
 },
 "nbformat": 4,
 "nbformat_minor": 5
}
