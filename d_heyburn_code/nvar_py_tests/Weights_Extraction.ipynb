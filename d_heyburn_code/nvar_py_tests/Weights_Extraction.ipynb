{
 "cells": [
  {
   "cell_type": "markdown",
   "source": [
    "At this point in the experiment, we now implement the NVAR onto the measured and integrated data to produce weight matrices for each protocol."
   ],
   "metadata": {
    "collapsed": false
   },
   "id": "57e5caac9cf8dae1"
  },
  {
   "cell_type": "code",
   "execution_count": 1,
   "outputs": [],
   "source": [
    "# Imports\n",
    "import os\n",
    "import numpy as np\n",
    "import pandas as pd\n",
    "import matplotlib.pyplot as plt\n",
    "\n",
    "from NVAR1 import *\n",
    "from NVAR_objective import prepare_data"
   ],
   "metadata": {
    "collapsed": false,
    "ExecuteTime": {
     "end_time": "2023-11-16T16:44:54.911633573Z",
     "start_time": "2023-11-16T16:44:52.555296182Z"
    }
   },
   "id": "67c6c261e45ca7f2"
  },
  {
   "cell_type": "code",
   "execution_count": 9,
   "outputs": [
    {
     "name": "stdout",
     "output_type": "stream",
     "text": [
      "/home/dafydd/PycharmProjects/Simulating-Neuronic-Oscillations-with-Reservoir-Computing/data/Normalised_Signals\n",
      "/home/dafydd/PycharmProjects/Simulating-Neuronic-Oscillations-with-Reservoir-Computing/init_NGRC/results/model_weights\n"
     ]
    }
   ],
   "source": [
    "# The current protocols to assess.\n",
    "protocols = [17, 21, 22, 23, 24, 25, 26, 27, 28, 29, 30]\n",
    "\n",
    "TRAIN = 96000 # Approximately optimal value from hyperparameter tuning.\n",
    "TEST = 30000  # Arbitrary. Not required for this program.\n",
    "dt = 1\n",
    "\n",
    "# The filepaths for the NORMALISED signals.\n",
    "host_dict = os.path.dirname(os.getcwd())\n",
    "filepath = os.path.join(host_dict, \"data\", \"Normalised_Signals\")\n",
    "\n",
    "# The filepath for the results' directory.\n",
    "result_dict = os.path.join(os.getcwd(), \"results\", \"model_weights\")\n",
    "# result_dict = os.path.join(os.getcwd(), \"results\", \"model_weights_full_length\")\n",
    "\n",
    "print(filepath)\n",
    "print(result_dict)"
   ],
   "metadata": {
    "collapsed": false,
    "ExecuteTime": {
     "end_time": "2023-11-16T16:57:33.558504859Z",
     "start_time": "2023-11-16T16:57:33.211964460Z"
    }
   },
   "id": "927fd99ee2cae14"
  },
  {
   "cell_type": "code",
   "execution_count": 10,
   "outputs": [
    {
     "name": "stdout",
     "output_type": "stream",
     "text": [
      "Measured Shape = (211001, 2)\n",
      "Integrated Shape = (102728, 2)\n",
      "\n",
      "\n",
      "\n",
      "Measured Shape = (211001, 2)\n",
      "Integrated Shape = (101598, 2)\n",
      "\n",
      "\n",
      "Measured Shape = (211001, 2)\n",
      "Integrated Shape = (101912, 2)\n",
      "\n",
      "\n",
      "\n",
      "Measured Shape = (211001, 2)\n",
      "Integrated Shape = (101485, 2)\n",
      "\n",
      "\n",
      "Measured Shape = (211001, 2)\n",
      "Integrated Shape = (102107, 2)\n",
      "\n",
      "\n",
      "\n",
      "Measured Shape = (211001, 2)\n",
      "Integrated Shape = (102224, 2)\n",
      "\n",
      "\n",
      "Measured Shape = (201001, 2)\n",
      "Integrated Shape = (96554, 2)\n",
      "\n",
      "\n",
      "\n",
      "Measured Shape = (201001, 2)\n",
      "Integrated Shape = (96774, 2)\n",
      "\n",
      "\n",
      "Measured Shape = (201001, 2)\n",
      "Integrated Shape = (96709, 2)\n",
      "\n",
      "\n",
      "\n",
      "Measured Shape = (201001, 2)\n",
      "Integrated Shape = (96948, 2)\n",
      "\n",
      "\n",
      "Measured Shape = (201001, 2)\n",
      "Integrated Shape = (97164, 2)\n"
     ]
    }
   ],
   "source": [
    "for i in protocols:\n",
    "        # Locating the filepaths for extraction.\n",
    "    measured_filepath = os.path.join(filepath, f\"M_NProtocol_{i}\")\n",
    "    integrated_filepath = os.path.join(filepath, f\"I_NProtocol_{i}\")\n",
    "        \n",
    "    measured = pd.read_csv(measured_filepath, header=0, dtype=\"float64\", delimiter=\",\").values\n",
    "    integrated = pd.read_csv(integrated_filepath, header=0, dtype=\"float64\", delimiter=\",\").values\n",
    "        \n",
    "    print(f\"Measured Shape = {measured.shape}\")\n",
    "    print(f\"Integrated Shape = {integrated.shape}\")\n",
    "    print(\"\\n\"*2)"
   ],
   "metadata": {
    "collapsed": false,
    "ExecuteTime": {
     "end_time": "2023-11-16T16:57:36.426129469Z",
     "start_time": "2023-11-16T16:57:34.459243090Z"
    }
   },
   "id": "6f032446adc6e1f"
  },
  {
   "cell_type": "code",
   "execution_count": 13,
   "outputs": [],
   "source": [
    "for i in protocols:\n",
    "    \n",
    "    # Initialise autoregressor.\n",
    "    nvar = NVAR(delay=2, strides=3, order=2)\n",
    "    \n",
    "    # Locating the filepaths for extraction.\n",
    "    measured_filepath = os.path.join(filepath, f\"M_NProtocol_{i}\")\n",
    "    integrated_filepath = os.path.join(filepath, f\"I_NProtocol_{i}\")\n",
    "    \n",
    "    # Importing the voltage and current data.\n",
    "    measured = pd.read_csv(measured_filepath, header=0, dtype=\"float64\", delimiter=\",\").values\n",
    "    integrated = pd.read_csv(integrated_filepath, header=0, dtype=\"float64\", delimiter=\",\").values\n",
    "    \n",
    "    # Splitting the dataset as necessary. \n",
    "    mx_train = measured[0:TRAIN, :]\n",
    "    my_train = measured[1:TRAIN + dt, -1].reshape(-1, 1)\n",
    "    \n",
    "    ix_train = integrated[0:TRAIN, :]\n",
    "    iy_train = integrated[1:TRAIN + dt, -1].reshape(-1, 1)\n",
    "    \n",
    "    \n",
    "    # Perform fitting and training, extract the weights from it.\n",
    "    M_features = nvar.fit(mx_train)\n",
    "    M_weights = np.squeeze(nvar.train(M_features, my_train, ridge=0, bias=True))\n",
    "    \n",
    "    I_features = nvar.fit(ix_train)\n",
    "    I_weights = np.squeeze(nvar.train(I_features, my_train, ridge=0, bias=True))\n",
    "    \n",
    "    df = pd.DataFrame({\n",
    "            \"Measured\": M_weights,\n",
    "            \"Integrated\": I_weights,\n",
    "            \"Difference\": np.abs(M_weights) - np.abs(I_weights)\n",
    "    })\n",
    "    \n",
    "    filename = os.path.join(result_dict, f\"NProtocol_{i}_weights.csv\")\n",
    "    df.to_csv(filename, index=False)"
   ],
   "metadata": {
    "collapsed": false,
    "ExecuteTime": {
     "end_time": "2023-11-16T17:18:00.838296690Z",
     "start_time": "2023-11-16T17:17:11.034761383Z"
    }
   },
   "id": "463a8bf3affb6322"
  },
  {
   "cell_type": "markdown",
   "source": [
    "# Weights Comparative Analysis"
   ],
   "metadata": {
    "collapsed": false
   },
   "id": "7b3fa21681d2ca70"
  },
  {
   "cell_type": "code",
   "execution_count": 2,
   "outputs": [
    {
     "data": {
      "text/plain": "'/home/dafydd/PycharmProjects/Simulating-Neuronic-Oscillations-with-Reservoir-Computing/init_NGRC'"
     },
     "execution_count": 2,
     "metadata": {},
     "output_type": "execute_result"
    }
   ],
   "source": [
    "os.getcwd()"
   ],
   "metadata": {
    "collapsed": false,
    "ExecuteTime": {
     "end_time": "2023-11-13T10:20:11.935044737Z",
     "start_time": "2023-11-13T10:20:11.915356944Z"
    }
   },
   "id": "ae64058d385cf2d7"
  },
  {
   "cell_type": "code",
   "execution_count": null,
   "outputs": [],
   "source": [
    "# Assuming your CSV files are in a directory named 'csv_data'\n",
    "weights_dict = os.path.join(os.getcwd(), \"results\", \"model_weights\") \n",
    "\n",
    "# Initialize an empty list to store DataFrame objects\n",
    "dataframes = []\n",
    "\n",
    "# Read each CSV file and append the DataFrame to the list\n",
    "for filename in os.listdir(weights_dict):\n",
    "    if filename.endswith('.csv'):\n",
    "        filepath = os.path.join(weights_dict, filename)\n",
    "        df = pd.read_csv(filepath, header=1, names=['Measured', 'Integrated', 'Difference'], dtype=\"float32\")\n",
    "        dataframes.append(df)\n",
    "\n",
    "# Plot a grouped bar chart for each CSV file\n",
    "for i, df in enumerate(dataframes):\n",
    "    print(df.iloc[:, 2].values[11])"
   ],
   "metadata": {
    "collapsed": false,
    "is_executing": true
   },
   "id": "97830dc74e2e35ca"
  },
  {
   "cell_type": "code",
   "execution_count": null,
   "outputs": [],
   "source": [],
   "metadata": {
    "collapsed": false
   },
   "id": "de7f7725a5de4d2b"
  }
 ],
 "metadata": {
  "kernelspec": {
   "display_name": "Python 3",
   "language": "python",
   "name": "python3"
  },
  "language_info": {
   "codemirror_mode": {
    "name": "ipython",
    "version": 2
   },
   "file_extension": ".py",
   "mimetype": "text/x-python",
   "name": "python",
   "nbconvert_exporter": "python",
   "pygments_lexer": "ipython2",
   "version": "2.7.6"
  }
 },
 "nbformat": 4,
 "nbformat_minor": 5
}
