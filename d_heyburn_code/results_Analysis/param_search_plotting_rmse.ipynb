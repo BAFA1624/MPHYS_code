{
 "cells": [
  {
   "cell_type": "code",
   "execution_count": 25,
   "id": "initial_id",
   "metadata": {
    "collapsed": true,
    "ExecuteTime": {
     "end_time": "2024-01-07T17:11:06.152293900Z",
     "start_time": "2024-01-07T17:11:06.133384900Z"
    }
   },
   "outputs": [],
   "source": [
    "import os\n",
    "import json\n",
    "import numpy as np\n",
    "import pandas as pd\n",
    "import matplotlib.pyplot as plt"
   ]
  },
  {
   "cell_type": "code",
   "execution_count": 26,
   "outputs": [],
   "source": [
    "cwd = os.getcwd()\n",
    "protocols = [17, 21, 23]"
   ],
   "metadata": {
    "collapsed": false,
    "ExecuteTime": {
     "end_time": "2024-01-07T17:11:06.384897200Z",
     "start_time": "2024-01-07T17:11:06.378257Z"
    }
   },
   "id": "65fd4f763f0013f4"
  },
  {
   "cell_type": "code",
   "execution_count": 31,
   "outputs": [
    {
     "name": "stdout",
     "output_type": "stream",
     "text": [
      "Opening Protocol 17\n",
      "Finished Protocol 17\n",
      "Opening Protocol 21\n",
      "Finished Protocol 21\n",
      "Opening Protocol 23\n",
      "Finished Protocol 23\n"
     ]
    }
   ],
   "source": [
    "# Measured datasets:\n",
    "# With integrated parameters\n",
    "measured_w_int = os.path.join(cwd, \"measured_signal_with_int_parameters\")\n",
    "# With measured parameters\n",
    "measured_w_mes = os.path.join(cwd, \"measured_Thu_Jan__4_22_45_36_2024\")\n",
    "\n",
    "for protocol in protocols:\n",
    "    print(f\"Opening Protocol {protocol}\")\n",
    "    csv_1 = pd.read_csv(os.path.join(measured_w_int, f\"{protocol}.csv\"), header=0, delimiter=',', dtype=\"float64\")\n",
    "    csv_2 = pd.read_csv(os.path.join(measured_w_mes, f\"{protocol}.csv\"), header=0, delimiter=',', dtype=\"float64\")\n",
    "    \n",
    "    concatenated_df = pd.concat([csv_1, csv_2], axis=0)\n",
    "    destination = os.path.join(cwd, \"final_sets\", f\"measured_{protocol}.csv\")\n",
    "    \n",
    "    # Converting datasets to csv:\n",
    "    concatenated_df.to_csv(destination, index=False)\n",
    "    print(f\"Finished Protocol {protocol}\")"
   ],
   "metadata": {
    "collapsed": false,
    "ExecuteTime": {
     "end_time": "2024-01-07T17:11:48.507007600Z",
     "start_time": "2024-01-07T17:11:48.449977300Z"
    }
   },
   "id": "5f9c2d84ccef1daa"
  },
  {
   "cell_type": "code",
   "execution_count": 29,
   "outputs": [
    {
     "name": "stdout",
     "output_type": "stream",
     "text": [
      "Opening Protocol 17\n",
      "Finished Protocol 17\n",
      "Opening Protocol 21\n",
      "Finished Protocol 21\n",
      "Opening Protocol 23\n",
      "Finished Protocol 23\n"
     ]
    }
   ],
   "source": [
    "# Integrated datasets:\n",
    "# With integrated parameters\n",
    "integrated_w_int = os.path.join(cwd, \"upsampled_integrated_Thu_Jan__4_05_21_42_2024\")\n",
    "# With measured parameters\n",
    "integrated_w_mes = os.path.join(cwd, \"Sat_Jan__6_12_25_16_2024\")\n",
    "\n",
    "for protocol in protocols:\n",
    "    print(f\"Opening Protocol {protocol}\")\n",
    "    csv_1 = pd.read_csv(os.path.join(integrated_w_int, f\"{protocol}.csv\"), header=0, delimiter=',', dtype=\"float64\")\n",
    "    csv_2 = pd.read_csv(os.path.join(integrated_w_mes, f\"{protocol}.csv\"), header=0, delimiter=',', dtype=\"float64\")\n",
    "    \n",
    "    concatenated_df = pd.concat([csv_1, csv_2], axis=0)\n",
    "    destination = os.path.join(cwd, \"final_sets\", f\"integrated_{protocol}.csv\")\n",
    "    \n",
    "    # Converting datasets to csv:\n",
    "    concatenated_df.to_csv(destination, index=False)\n",
    "    print(f\"Finished Protocol {protocol}\")"
   ],
   "metadata": {
    "collapsed": false,
    "ExecuteTime": {
     "end_time": "2024-01-07T17:11:45.035732400Z",
     "start_time": "2024-01-07T17:11:44.976774300Z"
    }
   },
   "id": "f1e3e4617c9ccca2"
  },
  {
   "cell_type": "code",
   "execution_count": 30,
   "outputs": [],
   "source": [
    "# Sorting the RMSE(N) data:\n",
    "little_N_test = os.path.join(cwd, \"measured_N_Fri_Jan__5_10_35_59_2024\", \"17.csv\")\n",
    "big_N_test = os.path.join(cwd, \"huge_N_measured_Sun_Jan__7_01_46_24_2024\", \"17.csv\") \n",
    "\n",
    "csv_1 = pd.read_csv(os.path.join(little_N_test), header=0, delimiter=',', dtype=\"float64\")  # Ranges N from 1500 to 2500\n",
    "csv_2 = pd.read_csv(os.path.join(big_N_test), header=0, delimiter=',', dtype=\"float64\")  # Ranges N from 2000 to 10000\n",
    "\n",
    "concatenated_df = pd.concat([csv_1, csv_2], axis=0)\n",
    "destination = os.path.join(cwd, \"final_sets\", f\"N_test_{17}.csv\")\n",
    "concatenated_df.to_csv(destination, index=False)"
   ],
   "metadata": {
    "collapsed": false,
    "ExecuteTime": {
     "end_time": "2024-01-07T17:11:45.347126300Z",
     "start_time": "2024-01-07T17:11:45.337077Z"
    }
   },
   "id": "213b2412d534257b"
  },
  {
   "cell_type": "code",
   "execution_count": 20,
   "outputs": [],
   "source": [
    "# Setting a threshold for the signals outliers. This is just to see some emerging pattern amongst the stable states. But to be clear, the model is REALLY unstable.\n",
    "outlier_threshold = 5"
   ],
   "metadata": {
    "collapsed": false,
    "ExecuteTime": {
     "end_time": "2024-01-05T19:04:07.989050880Z",
     "start_time": "2024-01-05T19:04:07.944227462Z"
    }
   },
   "id": "5a04c00987c4c849"
  },
  {
   "cell_type": "code",
   "execution_count": 21,
   "outputs": [],
   "source": [
    "# Protocol 17 results:\n",
    "# Integrated:\n",
    "filepath_i17 = os.path.join(os.getcwd(), \"i17.csv\")\n",
    "pi17 = pd.read_csv(filepath_i17, header=0, delimiter=',', dtype=\"float64\")  # Convert CSV to dataframe.\n",
    "pi17 = pi17[pi17['rmse'] < outlier_threshold]  # Removing outliers.\n",
    "# Spectral radius.\n",
    "grouped_p_i17 = pi17.groupby('p')['rmse'].agg(['mean', 'std']).rename(columns={'mean': 'mean_rmse', 'std': 'std_rmse'})\n",
    "# Leak rate.\n",
    "grouped_a_i17 = pi17.groupby('a')['rmse'].agg(['mean', 'std']).rename(columns={'mean': 'mean_rmse', 'std': 'std_rmse'})\n",
    "# Input scaling.\n",
    "grouped_iss_i17 = pi17.groupby('iss')['rmse'].agg(['mean', 'std']).rename(columns={'mean': 'mean_rmse', 'std': 'std_rmse'})\n",
    "\n",
    "# Measured:\n",
    "filepath_m17 = os.path.join(os.getcwd(), \"m17.csv\")\n",
    "pm17 = pd.read_csv(filepath_m17, header=0, delimiter=',', dtype=\"float64\")  # Convert CSV to dataframe.\n",
    "pm17 = pm17[pm17['rmse'] < outlier_threshold]  # Removing outliers.\n",
    "# Spectral radius.\n",
    "grouped_p_m17 = pm17.groupby('p')['rmse'].agg(['mean', 'std']).rename(columns={'mean': 'mean_rmse', 'std': 'std_rmse'})\n",
    "# Leak rate.\n",
    "grouped_a_m17 = pm17.groupby('a')['rmse'].agg(['mean', 'std']).rename(columns={'mean': 'mean_rmse', 'std': 'std_rmse'})\n",
    "# Input scaling.\n",
    "grouped_iss_m17 = pm17.groupby('iss')['rmse'].agg(['mean', 'std']).rename(columns={'mean': 'mean_rmse', 'std': 'std_rmse'})"
   ],
   "metadata": {
    "collapsed": false,
    "ExecuteTime": {
     "end_time": "2024-01-05T19:04:08.320734391Z",
     "start_time": "2024-01-05T19:04:08.236535538Z"
    }
   },
   "id": "7e2eafa3897f6944"
  },
  {
   "cell_type": "code",
   "execution_count": 22,
   "outputs": [],
   "source": [
    "# Protocol 21 results:\n",
    "# Integrated:\n",
    "filepath_i21 = os.path.join(os.getcwd(), \"i21.csv\")\n",
    "pi21 = pd.read_csv(filepath_i21, header=0, delimiter=',', dtype=\"float64\")  # Convert CSV to dataframe.\n",
    "pi21 = pi21[pi21['rmse'] < outlier_threshold]  # Removing outliers.\n",
    "# Spectral radius.\n",
    "grouped_p_i21 = pi21.groupby('p')['rmse'].agg(['mean', 'std']).rename(columns={'mean': 'mean_rmse', 'std': 'std_rmse'})\n",
    "# Leak rate.\n",
    "grouped_a_i21 = pi21.groupby('a')['rmse'].agg(['mean', 'std']).rename(columns={'mean': 'mean_rmse', 'std': 'std_rmse'})\n",
    "# Input scaling.\n",
    "grouped_iss_i21 = pi21.groupby('iss')['rmse'].agg(['mean', 'std']).rename(columns={'mean': 'mean_rmse', 'std': 'std_rmse'})\n",
    "\n",
    "# Measured:\n",
    "filepath_m21 = os.path.join(os.getcwd(), \"m21.csv\")\n",
    "pm21 = pd.read_csv(filepath_m21, header=0, delimiter=',', dtype=\"float64\")  # Convert CSV to dataframe.\n",
    "pm21 = pm21[pm21['rmse'] < outlier_threshold]  # Removing outliers.\n",
    "# Spectral radius.\n",
    "grouped_p_m21 = pm21.groupby('p')['rmse'].agg(['mean', 'std']).rename(columns={'mean': 'mean_rmse', 'std': 'std_rmse'})\n",
    "# Leak rate.\n",
    "grouped_a_m21 = pm21.groupby('a')['rmse'].agg(['mean', 'std']).rename(columns={'mean': 'mean_rmse', 'std': 'std_rmse'})\n",
    "# Input scaling.\n",
    "grouped_iss_m21 = pm21.groupby('iss')['rmse'].agg(['mean', 'std']).rename(columns={'mean': 'mean_rmse', 'std': 'std_rmse'})"
   ],
   "metadata": {
    "collapsed": false,
    "ExecuteTime": {
     "end_time": "2024-01-05T19:04:08.352848179Z",
     "start_time": "2024-01-05T19:04:08.316509768Z"
    }
   },
   "id": "7124bcf442e10ba7"
  },
  {
   "cell_type": "code",
   "execution_count": 23,
   "outputs": [],
   "source": [
    "# Protocol 23 results:\n",
    "# Integrated:\n",
    "filepath_i23 = os.path.join(os.getcwd(), \"i23.csv\")\n",
    "pi23 = pd.read_csv(filepath_i23, header=0, delimiter=',', dtype=\"float64\")  # Convert CSV to dataframe.\n",
    "pi23 = pi23[pi23['rmse'] < outlier_threshold]  # Removing outliers.\n",
    "# Spectral radius.\n",
    "grouped_p_i23 = pi23.groupby('p')['rmse'].agg(['mean', 'std']).rename(columns={'mean': 'mean_rmse', 'std': 'std_rmse'})\n",
    "# Leak rate.\n",
    "grouped_a_i23 = pi23.groupby('a')['rmse'].agg(['mean', 'std']).rename(columns={'mean': 'mean_rmse', 'std': 'std_rmse'})\n",
    "# Input scaling.\n",
    "grouped_iss_i23 = pi23.groupby('iss')['rmse'].agg(['mean', 'std']).rename(columns={'mean': 'mean_rmse', 'std': 'std_rmse'})\n",
    "\n",
    "# Measured:\n",
    "filepath_m23 = os.path.join(os.getcwd(), \"m23.csv\")\n",
    "pm23 = pd.read_csv(filepath_m23, header=0, delimiter=',', dtype=\"float64\")  # Convert CSV to dataframe.\n",
    "pm23 = pm23[pm23['rmse'] < outlier_threshold]  # Removing outliers.\n",
    "# Spectral radius.\n",
    "grouped_p_m23 = pm23.groupby('p')['rmse'].agg(['mean', 'std']).rename(columns={'mean': 'mean_rmse', 'std': 'std_rmse'})\n",
    "# Leak rate.\n",
    "grouped_a_m23 = pm23.groupby('a')['rmse'].agg(['mean', 'std']).rename(columns={'mean': 'mean_rmse', 'std': 'std_rmse'})\n",
    "# Input scaling.\n",
    "grouped_iss_m23 = pm23.groupby('iss')['rmse'].agg(['mean', 'std']).rename(columns={'mean': 'mean_rmse', 'std': 'std_rmse'})"
   ],
   "metadata": {
    "collapsed": false,
    "ExecuteTime": {
     "end_time": "2024-01-05T19:04:08.638493575Z",
     "start_time": "2024-01-05T19:04:08.620476207Z"
    }
   },
   "id": "69776b43f500553a"
  },
  {
   "cell_type": "code",
   "execution_count": 28,
   "outputs": [
    {
     "name": "stderr",
     "output_type": "stream",
     "text": [
      "findfont: Font family 'Times New Roman' not found.\n",
      "findfont: Font family 'Times New Roman' not found.\n",
      "findfont: Font family 'Times New Roman' not found.\n",
      "findfont: Font family 'Times New Roman' not found.\n",
      "findfont: Font family 'Times New Roman' not found.\n",
      "findfont: Font family 'Times New Roman' not found.\n",
      "findfont: Font family 'Times New Roman' not found.\n",
      "findfont: Font family 'Times New Roman' not found.\n",
      "findfont: Font family 'Times New Roman' not found.\n",
      "findfont: Font family 'Times New Roman' not found.\n",
      "findfont: Font family 'Times New Roman' not found.\n",
      "findfont: Font family 'Times New Roman' not found.\n",
      "findfont: Font family 'Times New Roman' not found.\n",
      "findfont: Font family 'Times New Roman' not found.\n",
      "findfont: Font family 'Times New Roman' not found.\n",
      "findfont: Font family 'Times New Roman' not found.\n",
      "findfont: Font family 'Times New Roman' not found.\n",
      "findfont: Font family 'Times New Roman' not found.\n",
      "findfont: Font family 'Times New Roman' not found.\n",
      "findfont: Font family 'Times New Roman' not found.\n",
      "findfont: Font family 'Times New Roman' not found.\n",
      "findfont: Font family 'Times New Roman' not found.\n",
      "findfont: Font family 'Times New Roman' not found.\n",
      "findfont: Font family 'Times New Roman' not found.\n",
      "findfont: Font family 'Times New Roman' not found.\n",
      "findfont: Font family 'Times New Roman' not found.\n",
      "findfont: Font family 'Times New Roman' not found.\n",
      "findfont: Font family 'Times New Roman' not found.\n",
      "findfont: Font family 'Times New Roman' not found.\n",
      "findfont: Font family 'Times New Roman' not found.\n",
      "findfont: Font family 'Times New Roman' not found.\n",
      "findfont: Font family 'Times New Roman' not found.\n",
      "findfont: Font family 'Times New Roman' not found.\n",
      "findfont: Font family 'Times New Roman' not found.\n",
      "findfont: Font family 'Times New Roman' not found.\n",
      "findfont: Font family 'Times New Roman' not found.\n",
      "findfont: Font family 'Times New Roman' not found.\n",
      "findfont: Font family 'Times New Roman' not found.\n",
      "findfont: Font family 'Times New Roman' not found.\n",
      "findfont: Font family 'Times New Roman' not found.\n",
      "findfont: Font family 'Times New Roman' not found.\n",
      "findfont: Font family 'Times New Roman' not found.\n",
      "findfont: Font family 'Times New Roman' not found.\n",
      "findfont: Font family 'Times New Roman' not found.\n",
      "findfont: Font family 'Times New Roman' not found.\n",
      "findfont: Font family 'Times New Roman' not found.\n",
      "findfont: Font family 'Times New Roman' not found.\n",
      "findfont: Font family 'Times New Roman' not found.\n",
      "findfont: Font family 'Times New Roman' not found.\n",
      "findfont: Font family 'Times New Roman' not found.\n",
      "findfont: Font family 'Times New Roman' not found.\n",
      "findfont: Font family 'Times New Roman' not found.\n",
      "findfont: Font family 'Times New Roman' not found.\n",
      "findfont: Font family 'Times New Roman' not found.\n",
      "findfont: Font family 'Times New Roman' not found.\n",
      "findfont: Font family 'Times New Roman' not found.\n",
      "findfont: Font family 'Times New Roman' not found.\n",
      "findfont: Font family 'Times New Roman' not found.\n",
      "findfont: Font family 'Times New Roman' not found.\n",
      "findfont: Font family 'Times New Roman' not found.\n",
      "findfont: Font family 'Times New Roman' not found.\n",
      "findfont: Font family 'Times New Roman' not found.\n",
      "findfont: Font family 'Times New Roman' not found.\n",
      "findfont: Font family 'Times New Roman' not found.\n",
      "findfont: Font family 'Times New Roman' not found.\n",
      "findfont: Font family 'Times New Roman' not found.\n",
      "findfont: Font family 'Times New Roman' not found.\n",
      "findfont: Font family 'Times New Roman' not found.\n",
      "findfont: Font family 'Times New Roman' not found.\n",
      "findfont: Font family 'Times New Roman' not found.\n",
      "findfont: Font family 'Times New Roman' not found.\n",
      "findfont: Font family 'Times New Roman' not found.\n",
      "findfont: Font family 'Times New Roman' not found.\n",
      "findfont: Font family 'Times New Roman' not found.\n",
      "findfont: Font family 'Times New Roman' not found.\n",
      "findfont: Font family 'Times New Roman' not found.\n",
      "findfont: Font family 'Times New Roman' not found.\n",
      "findfont: Font family 'Times New Roman' not found.\n",
      "findfont: Font family 'Times New Roman' not found.\n",
      "findfont: Font family 'Times New Roman' not found.\n",
      "findfont: Font family 'Times New Roman' not found.\n",
      "findfont: Font family 'Times New Roman' not found.\n",
      "findfont: Font family 'Times New Roman' not found.\n",
      "findfont: Font family 'Times New Roman' not found.\n",
      "findfont: Font family 'Times New Roman' not found.\n",
      "findfont: Font family 'Times New Roman' not found.\n",
      "findfont: Font family 'Times New Roman' not found.\n",
      "findfont: Font family 'Times New Roman' not found.\n",
      "findfont: Font family 'Times New Roman' not found.\n",
      "findfont: Font family 'Times New Roman' not found.\n",
      "findfont: Font family 'Times New Roman' not found.\n",
      "findfont: Font family 'Times New Roman' not found.\n",
      "findfont: Font family 'Times New Roman' not found.\n",
      "findfont: Font family 'Times New Roman' not found.\n",
      "findfont: Font family 'Times New Roman' not found.\n",
      "findfont: Font family 'Times New Roman' not found.\n",
      "findfont: Font family 'Times New Roman' not found.\n"
     ]
    },
    {
     "data": {
      "text/plain": "<Figure size 1000x800 with 9 Axes>",
      "image/png": "[encoded data removed]"
     },
     "metadata": {},
     "output_type": "display_data"
    }
   ],
   "source": [
    "# Create subplots with shared y-axis\n",
    "fig, ((ax1, ax2, ax3), (ax4, ax5, ax6), (ax7, ax8, ax9)) = plt.subplots(3, 3, sharey=True, figsize=(10, 8))\n",
    "\n",
    "# Adjust tick marks\n",
    "plt.tick_params(direction='in')\n",
    "plt.rc('font', family='Times New Roman', size=12)  # Change font type and size\n",
    "\n",
    "# Plotting on each subplot separately\n",
    "ax1.set_ylim(0, 3)\n",
    "ax2.set_ylim(0, 3)\n",
    "ax3.set_ylim(0, 3) \n",
    "\n",
    "\n",
    "# Spectral radius plots\n",
    "# P17\n",
    "ax1.errorbar(grouped_p_i17.index, grouped_p_i17['mean_rmse'], yerr=grouped_p_i17['std_rmse'], fmt='ko', capsize=5)  # Integrated\n",
    "ax1.errorbar(grouped_p_m17.index, grouped_p_m17['mean_rmse'], yerr=grouped_p_m17['std_rmse'], fmt='rD', capsize=5)  # Measured\n",
    "# P21\n",
    "ax2.errorbar(grouped_p_i21.index, grouped_p_i21['mean_rmse'], yerr=grouped_p_i21['std_rmse'], fmt='ko', capsize=5)\n",
    "ax2.errorbar(grouped_p_m21.index, grouped_p_m21['mean_rmse'], yerr=grouped_p_m21['std_rmse'], fmt='rD', capsize=5)\n",
    "\n",
    "# P23\n",
    "ax3.errorbar(grouped_p_i23.index, grouped_p_i23['mean_rmse'], yerr=grouped_p_i23['std_rmse'], fmt='ko', capsize=5)\n",
    "ax3.errorbar(grouped_p_m23.index, grouped_p_m23['mean_rmse'], yerr=grouped_p_m23['std_rmse'], fmt='rD', capsize=5)\n",
    "\n",
    "# Leak rate plots:\n",
    "# P17\n",
    "ax4.errorbar(grouped_a_i17.index, grouped_a_i17['mean_rmse'], yerr=grouped_a_i17['std_rmse'], fmt='ko', capsize=5)\n",
    "ax4.errorbar(grouped_a_m17.index, grouped_a_m17['mean_rmse'], yerr=grouped_a_m17['std_rmse'], fmt='rD', capsize=5)\n",
    "# P21\n",
    "ax5.errorbar(grouped_a_i21.index, grouped_a_i21['mean_rmse'], yerr=grouped_a_i21['std_rmse'], fmt='ko', capsize=5)\n",
    "ax5.errorbar(grouped_a_m21.index, grouped_a_m21['mean_rmse'], yerr=grouped_a_m21['std_rmse'], fmt='rD', capsize=5)\n",
    "# P23\n",
    "ax6.errorbar(grouped_a_i23.index, grouped_a_i23['mean_rmse'], yerr=grouped_a_i23['std_rmse'], fmt='ko', capsize=5)\n",
    "ax6.errorbar(grouped_a_m23.index, grouped_a_m23['mean_rmse'], yerr=grouped_a_m23['std_rmse'], fmt='rD', capsize=5)\n",
    "\n",
    "# Input scaling plots\n",
    "# P17\n",
    "ax7.errorbar(grouped_iss_i17.index, grouped_iss_i17['mean_rmse'], yerr=grouped_iss_i17['std_rmse'], fmt='ko', capsize=5)\n",
    "ax7.errorbar(grouped_iss_m17.index, grouped_iss_m17['mean_rmse'], yerr=grouped_iss_m17['std_rmse'], fmt='rD', capsize=5)\n",
    "# P21\n",
    "ax8.errorbar(grouped_iss_i21.index, grouped_iss_i21['mean_rmse'], yerr=grouped_iss_i21['std_rmse'], fmt='ko', capsize=5)\n",
    "ax8.errorbar(grouped_iss_m21.index, grouped_iss_m21['mean_rmse'], yerr=grouped_iss_m21['std_rmse'], fmt='rD', capsize=5)\n",
    "# P23\n",
    "ax9.errorbar(grouped_iss_i23.index, grouped_iss_i23['mean_rmse'], yerr=grouped_iss_i23['std_rmse'], fmt='ko', capsize=5)\n",
    "ax9.errorbar(grouped_iss_m23.index, grouped_iss_m23['mean_rmse'], yerr=grouped_iss_m23['std_rmse'], fmt='rD', capsize=5)\n",
    "\n",
    "plt.subplots_adjust(hspace=1.0, wspace=0.5)\n",
    "# Set a shared y-axis label\n",
    "fig.text(0.02, 0.5, 'Root-Mean-Squared Error', va='center', rotation='vertical', fontsize=14)\n",
    "\n",
    "plt.tight_layout()\n",
    "plt.show()"
   ],
   "metadata": {
    "collapsed": false,
    "ExecuteTime": {
     "end_time": "2024-01-05T19:05:36.301168042Z",
     "start_time": "2024-01-05T19:05:33.329706488Z"
    }
   },
   "id": "c3815e51f09c890b"
  },
  {
   "cell_type": "markdown",
   "source": [
    "## Assessing N's affect on RMSE and runtime."
   ],
   "metadata": {
    "collapsed": false
   },
   "id": "318573a8cc271d11"
  },
  {
   "cell_type": "code",
   "execution_count": 18,
   "outputs": [],
   "source": [],
   "metadata": {
    "collapsed": false,
    "ExecuteTime": {
     "end_time": "2024-01-05T18:52:01.998830660Z",
     "start_time": "2024-01-05T18:52:01.789180172Z"
    }
   },
   "id": "58b3aaf0e9bd28f0"
  }
 ],
 "metadata": {
  "kernelspec": {
   "display_name": "Python 3",
   "language": "python",
   "name": "python3"
  },
  "language_info": {
   "codemirror_mode": {
    "name": "ipython",
    "version": 2
   },
   "file_extension": ".py",
   "mimetype": "text/x-python",
   "name": "python",
   "nbconvert_exporter": "python",
   "pygments_lexer": "ipython2",
   "version": "2.7.6"
  }
 },
 "nbformat": 4,
 "nbformat_minor": 5
}
